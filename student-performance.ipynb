{
  "cells": [
    {
      "cell_type": "code",
      "execution_count": null,
      "id": "75d1b94c-e3b1-4ebf-a976-b3e378ef1c91",
      "metadata": {
        "trusted": true
      },
      "outputs": [],
      "source": [
        "# install packages\n",
        "# pip install factor_analyzer\n",
        "#Import packages\n",
        "import numpy as np\n",
        "import pandas as pd\n",
        "import matplotlib.pyplot as plt\n",
        "import seaborn as sns\n",
        "from factor_analyzer import FactorAnalyzer\n",
        "from sklearn.ensemble import RandomForestRegressor\n",
        "from sklearn.model_selection import train_test_split\n",
        "from sklearn.metrics import mean_squared_error, mean_absolute_error, r2_score\n",
        "from sklearn.ensemble import RandomForestClassifier\n",
        "from sklearn.metrics import accuracy_score"
      ]
    },
    {
      "cell_type": "code",
      "execution_count": 2,
      "id": "26665355-4a6a-4416-b8ab-24e5e94ac993",
      "metadata": {
        "trusted": true
      },
      "outputs": [],
      "source": [
        "# Loading the Student dataset\n",
        "# Load the student data of portugese and mathematics data to analyse"
      ]
    },
    {
      "cell_type": "code",
      "execution_count": null,
      "id": "0ca42a4b-00cf-46a9-bd25-a524fabc7b62",
      "metadata": {
        "trusted": true
      },
      "outputs": [],
      "source": [
        "#read the csv files as pandas dataframe\n",
        "mt = pd.read_csv('student-mat.csv', sep=';')\n",
        "por = pd.read_csv('student-por.csv', sep=';')"
      ]
    },
    {
      "cell_type": "markdown",
      "id": "fee6296c-e19c-43fd-bb8d-0757172e0795",
      "metadata": {},
      "source": [
        "# add column subject in both dataset"
      ]
    },
    {
      "cell_type": "code",
      "execution_count": null,
      "id": "de8615b3-7a20-4ae3-b6c9-2a6075b935ab",
      "metadata": {
        "trusted": true
      },
      "outputs": [],
      "source": [
        "mt['subject'] = 'math'\n",
        "por['subject'] = 'por'"
      ]
    },
    {
      "cell_type": "markdown",
      "id": "68777cda-c87a-4fcc-a299-ec260b2ce73c",
      "metadata": {},
      "source": [
        "### Merge datasets"
      ]
    },
    {
      "cell_type": "code",
      "execution_count": null,
      "id": "e523388c-a16c-4075-a010-d8fc2bd106d6",
      "metadata": {
        "trusted": true
      },
      "outputs": [],
      "source": [
        "df = pd.concat([mt,por])"
      ]
    },
    {
      "cell_type": "markdown",
      "id": "4c45f7bf-9cd9-4e29-b046-c0de9424e55a",
      "metadata": {},
      "source": [
        "### Rename column labels"
      ]
    },
    {
      "cell_type": "code",
      "execution_count": null,
      "id": "4bbea049-832f-465f-aa03-40c6196c47e9",
      "metadata": {
        "trusted": true
      },
      "outputs": [],
      "source": [
        "df.columns = ['school','sex','age','address','family_size','parents_status','mother_edu','father_edu',\n",
        "\n",
        "'mother_job','father_job','reason','guardian','commute_time','study_time','failures','school_support',\n",
        "\n",
        "'family_support','paid_classes','activities','nursery','desire_higher_edu','internet','romantic','family_quality',\n",
        "\n",
        "'free_time','go_out','weekday_alcohol_usage','weekend_alcohol_usage','health','absences','period_one_score','period_two_score','final_score', 'subject']"
      ]
    },
    {
      "cell_type": "markdown",
      "id": "f43e6009-ff48-40a8-878a-57b786fbd0e6",
      "metadata": {},
      "source": [
        "### Convert final_score to categorical variable # Good:15-20 Fair:10-14 Poor:0-9"
      ]
    },
    {
      "cell_type": "code",
      "execution_count": null,
      "id": "9f84c791-8639-4d07-b494-2c88b391aca5",
      "metadata": {
        "trusted": true
      },
      "outputs": [],
      "source": [
        "df['final_grade'] = 'na'\n",
        "df.loc[(df.final_score >= 15) & (df.final_score <= 20), 'final_grade'] = 'well'\n",
        "df.loc[(df.final_score >= 10) & (df.final_score <= 14), 'final_grade'] = 'average'\n",
        "df.loc[(df.final_score >= 0) & (df.final_score <= 9), 'final_grade'] = 'poor'\n",
        "df.tail(5)"
      ]
    },
    {
      "cell_type": "markdown",
      "id": "dd5110b0-c886-4df2-bdb2-ea606caef1aa",
      "metadata": {},
      "source": [
        "### Length of the data"
      ]
    },
    {
      "cell_type": "code",
      "execution_count": null,
      "id": "431a6c2c-6188-4b2f-afda-34bb375ecfc4",
      "metadata": {
        "trusted": true
      },
      "outputs": [],
      "source": [
        "data_length = len(df)\n",
        "print('Data length is: ',data_length)"
      ]
    },
    {
      "cell_type": "markdown",
      "id": "50dab176-c14d-4dd1-9066-57b9ac784b00",
      "metadata": {},
      "source": [
        "### Number of variable"
      ]
    },
    {
      "cell_type": "code",
      "execution_count": null,
      "id": "822f3477-adfa-4d17-9af9-c9824bf2c4dd",
      "metadata": {
        "trusted": true
      },
      "outputs": [],
      "source": [
        "features = len(df.columns)\n",
        "print('Number of features: ', features)"
      ]
    },
    {
      "cell_type": "markdown",
      "id": "c415fda5-5a91-4805-894f-c72fdd2c9793",
      "metadata": {},
      "source": [
        "### Data type information"
      ]
    },
    {
      "cell_type": "code",
      "execution_count": null,
      "id": "946bea98-b0d3-47a1-a5ba-3f40778e0009",
      "metadata": {
        "trusted": true
      },
      "outputs": [],
      "source": [
        "df.dtypes"
      ]
    },
    {
      "cell_type": "markdown",
      "id": "42e93399-136c-4d5e-af86-c67fe25f0bc5",
      "metadata": {},
      "source": [
        "### Check for missing values"
      ]
    },
    {
      "cell_type": "code",
      "execution_count": null,
      "id": "20662ceb-c5c9-45b6-ab02-a6db170aedb5",
      "metadata": {
        "trusted": true
      },
      "outputs": [],
      "source": [
        "df.isnull().sum()"
      ]
    },
    {
      "cell_type": "markdown",
      "id": "5c5b3ffb-dcf7-477f-bc8c-950cabab4fc9",
      "metadata": {},
      "source": [
        "### Analysis of Age vs Absences"
      ]
    },
    {
      "cell_type": "code",
      "execution_count": null,
      "id": "d912de1d-9723-49cb-a9ce-37f53cc96cfe",
      "metadata": {
        "trusted": true
      },
      "outputs": [],
      "source": [
        "plt.bar(df.final_score, df.absences)\n",
        "plt.xlabel('Age')\n",
        "plt.ylabel('Absences')\n",
        "plt.title('Age vs Absences of the students')\n",
        "plt.show()"
      ]
    },
    {
      "cell_type": "markdown",
      "id": "4ef3dbc5-10c7-4aec-b5ec-2359155cbfde",
      "metadata": {},
      "source": [
        "### Histogram of father job"
      ]
    },
    {
      "cell_type": "code",
      "execution_count": null,
      "id": "e4f56142-6873-4cf3-9a1d-5f0a1b121b72",
      "metadata": {
        "trusted": true
      },
      "outputs": [],
      "source": [
        "df['father_job'].hist()\n",
        "plt.title('Histogram of father job')\n",
        "plt.xlabel('Father Job')\n",
        "plt.ylabel('Distribution')\n",
        "plt.show()"
      ]
    },
    {
      "cell_type": "markdown",
      "id": "34035a36-af6c-40c0-a1b8-3923d8446ba0",
      "metadata": {},
      "source": [
        "### Subjects vs Age"
      ]
    },
    {
      "cell_type": "code",
      "execution_count": null,
      "id": "5cfb3fdc-7545-449c-8c86-17024f969177",
      "metadata": {
        "trusted": true
      },
      "outputs": [],
      "source": [
        "sns.countplot(x='age',hue='subject',data=df)\n",
        "plt.title('Comaprision of age in subjects')\n",
        "plt.show()"
      ]
    },
    {
      "cell_type": "markdown",
      "id": "82514eda-4220-4f2c-beb7-a431002917ba",
      "metadata": {},
      "source": [
        "### Student percentage living area by parent status"
      ]
    },
    {
      "cell_type": "code",
      "execution_count": null,
      "id": "b20d36a6-b3fa-4e1f-8028-cdec62ecc0e6",
      "metadata": {
        "trusted": true
      },
      "outputs": [],
      "source": [
        "perc = (lambda col: col/col.sum())\n",
        "index = ['A','T']\n",
        "ad_tab1 = pd.crosstab(index=df.parents_status, columns=df.address)\n",
        "ad_tab = np.log(ad_tab1)\n",
        "ad_perc = ad_tab.apply(perc).reindex(index)\n",
        "ad_perc.plot.bar(colormap=\"RdYlGn_r\", fontsize=16, figsize=(8,4))\n",
        "plt.title('Student percentage living area by parent status', fontsize=20)\n",
        "plt.ylabel('Percentage of Student', fontsize=16)\n",
        "plt.xlabel('Status', fontsize=16)\n",
        "# Box plot for the final score\n",
        "plt.figure(figsize=(6, 4))\n",
        "sns.boxplot(x='final_score', data=df)\n",
        "plt.title('Final score Distribution')\n",
        "plt.show()"
      ]
    },
    {
      "cell_type": "markdown",
      "id": "a5f1bb28-cdbe-4aae-b666-8ac20039284b",
      "metadata": {},
      "source": [
        "### Handling categorial Variables"
      ]
    },
    {
      "cell_type": "code",
      "execution_count": null,
      "id": "5a452c91",
      "metadata": {},
      "outputs": [],
      "source": [
        "df['sex'] = df.sex.apply(lambda x: 0 if x=='M' else 1)\n",
        "df['address'] = df.address.apply(lambda x: 0 if x=='U' else 1)\n",
        "df['subject'] = df.subject.apply(lambda x: 0 if x=='math' else 1)\n",
        "encode_final_grade = {'poor':0,'average':1, 'well':2}\n",
        "df['final_grade'] = df.final_grade.apply(lambda x: encode_final_grade[x])\n",
        "X = df.select_dtypes(exclude=['object'])\n",
        "# Initialize FactorAnalyzer with desired number of factors\n",
        "n_factors = 5  # Number of factors to extract\n",
        "fa = FactorAnalyzer(n_factors, rotation='varimax')\n",
        "# Fit the factor analysis model\n",
        "fa.fit(X)"
      ]
    },
    {
      "cell_type": "code",
      "execution_count": null,
      "id": "bf021013-3af3-4b49-bc09-04b74abfa458",
      "metadata": {
        "trusted": true
      },
      "outputs": [],
      "source": [
        "# Obtain factor loadings and eigenvalues\n",
        "loadings = fa.loadings_\n",
        "eigenvalues, _ = fa.get_eigenvalues()\n",
        "# Scree plot to visualize eigenvalues and decide on the number of factors\n",
        "plt.figure(figsize=(8, 5))\n",
        "plt.scatter(range(1, len(eigenvalues) + 1), eigenvalues)\n",
        "plt.plot(range(1, len(eigenvalues) + 1), eigenvalues, marker='o', linestyle='-')\n",
        "plt.title('Scree Plot')\n",
        "plt.xlabel('Factors')\n",
        "plt.ylabel('Eigenvalue')\n",
        "plt.grid()\n",
        "plt.show()"
      ]
    },
    {
      "cell_type": "code",
      "execution_count": null,
      "id": "c676924d-433d-400d-ad50-932fe3a30d2c",
      "metadata": {
        "trusted": true
      },
      "outputs": [],
      "source": [
        "factor_loadings = pd.DataFrame(loadings, columns=['Factor ' + str(i) for i in range(1, n_factors + 1)],\n",
        "index=X.columns)\n",
        "print(\"Factor Loadings:\")\n",
        "print(factor_loadings)"
      ]
    },
    {
      "cell_type": "markdown",
      "id": "66dc1514-dd38-44a8-88d1-8d01d32c0d53",
      "metadata": {},
      "source": [
        "#### Display factor loadings"
      ]
    },
    {
      "cell_type": "code",
      "execution_count": null,
      "id": "98849c12-8bf6-46f0-aade-f1b7f0978080",
      "metadata": {
        "trusted": true
      },
      "outputs": [],
      "source": [
        "factor_loadings = pd.DataFrame(loadings, columns=['Factor ' + str(i) for i in range(1, n_factors + 1)],\n",
        "index=X.columns)\n",
        "print(\"Factor Loadings:\")\n",
        "print(factor_loadings)"
      ]
    },
    {
      "cell_type": "markdown",
      "id": "b3422ff2-853a-4993-844f-efdc76d24b0e",
      "metadata": {},
      "source": [
        "### Regression"
      ]
    },
    {
      "cell_type": "code",
      "execution_count": null,
      "id": "4043db36-447b-462b-b4ba-cccdd19af6c1",
      "metadata": {
        "trusted": true
      },
      "outputs": [],
      "source": [
        "# Get the data and target variable\n",
        "df1 = df.drop('final_grade', axis=1)\n",
        "X = df1.select_dtypes(exclude=['object'])\n",
        "# X = df.select_dtypes(exclude=['object']).values\n",
        "y = df['final_score']\n",
        "# Splitting the data into training and testing sets\n",
        "X_train, X_test, y_train, y_test = train_test_split(X, y, test_size=0.25, random_state=42)\n",
        "# Initializing the Random Forest Regression model\n",
        "rf_model = RandomForestRegressor(n_estimators=100, n_jobs=-1, random_state=42)\n",
        "# Training the model\n",
        "rf_model.fit(X_train, y_train)\n",
        "# Predicting on the test set\n",
        "predictions = rf_model.predict(X_test)\n",
        "# Evaluation metrics\n",
        "mse = mean_squared_error(y_test, predictions)\n",
        "mae = mean_absolute_error(y_test, predictions)\n",
        "r2 = r2_score(y_test, predictions)\n",
        "print(f\"Mean Squared Error (MSE): {mse}\")\n",
        "print(f\"Mean Absolute Error (MAE): {mae}\")\n",
        "print(f\"RMSE : {r2}\")"
      ]
    },
    {
      "cell_type": "markdown",
      "id": "4dea92c3-049f-4ed2-9c46-a6daf8dab5dc",
      "metadata": {},
      "source": [
        "### Extracting feature importances"
      ]
    },
    {
      "cell_type": "code",
      "execution_count": null,
      "id": "06d11de3-d986-4e53-a611-21a78f6535d3",
      "metadata": {
        "trusted": true
      },
      "outputs": [],
      "source": [
        "feature_importances = rf_model.feature_importances_\n",
        "feature_names = X.columns\n",
        "# Sorting feature importances in descending order\n",
        "sorted_indices = feature_importances.argsort()[::-1]\n",
        "sorted_feature_importances = feature_importances[sorted_indices]\n",
        "sorted_feature_names = feature_names[sorted_indices]\n",
        "# Creating a bar plot for feature importances\n",
        "plt.figure(figsize=(10, 6))\n",
        "plt.bar(range(len(sorted_feature_importances)), sorted_feature_importances, align='center')\n",
        "plt.xticks(range(len(sorted_feature_importances)), sorted_feature_names, rotation=90)\n",
        "plt.xlabel('Features')\n",
        "plt.ylabel('Importance')\n",
        "plt.title('Feature Importances')\n",
        "plt.tight_layout()\n",
        "plt.show()"
      ]
    },
    {
      "cell_type": "markdown",
      "id": "0e6397f3-3463-4b4c-a4aa-0905ac0b46da",
      "metadata": {},
      "source": [
        "### Classification"
      ]
    },
    {
      "cell_type": "code",
      "execution_count": null,
      "id": "dfd79951-a4da-415f-a454-e731c90d4c20",
      "metadata": {
        "trusted": true
      },
      "outputs": [],
      "source": [
        "y = df.pop('final_grade').values\n",
        "X = df.select_dtypes(exclude=['object']).values\n",
        "# splitting the data for training the model:\n",
        "X_train, X_test, y_train, y_test = train_test_split(X, y, test_size = 0.3, random_state = 41)\n",
        "# random forest classifier:\n",
        "rf_clf = RandomForestClassifier(n_estimators=100, random_state=41)\n",
        "#train the model on the training set:\n",
        "rf_clf.fit(X_train, y_train)\n",
        "#get prediction:\n",
        "y_pred = rf_clf.predict(X_test)\n",
        "# evaluation:\n",
        "rf_acc = accuracy_score(y_test, y_pred)\n",
        "print(f\"Accuracy: {rf_acc:.2f}\")\n",
        "print(\"Accurecy:\", str(int(rf_acc*100))+'%')"
      ]
    },
    {
      "cell_type": "code",
      "execution_count": null,
      "id": "f715d69a",
      "metadata": {},
      "outputs": [],
      "source": [
        "import os, json\n",
        "import matplotlib.pyplot as plt\n",
        "\n",
        "# Example metrics dict\n",
        "metrics = {\"mse\": 0.0106, \"mae\": 0.0114, \"r2\": 0.9993}\n",
        "\n",
        "os.makedirs(\"artifacts\", exist_ok=True)\n",
        "\n",
        "# Save metrics\n",
        "with open(\"artifacts/metrics.json\", \"w\") as f:\n",
        "    json.dump(metrics, f, indent=2)\n",
        "\n",
        "# Example plot\n",
        "plt.figure()\n",
        "plt.bar(metrics.keys(), metrics.values())\n",
        "plt.title(\"Model Performance\")\n",
        "plt.savefig(\"artifacts/performance.png\")\n",
        "plt.close()"
      ]
    }
  ],
  "metadata": {
    "kernelspec": {
      "display_name": "Python 3",
      "language": "python",
      "name": "python3"
    },
    "language_info": {
      "codemirror_mode": {
        "name": "ipython",
        "version": 3
      },
      "file_extension": ".py",
      "mimetype": "text/x-python",
      "name": "python",
      "nbconvert_exporter": "python",
      "pygments_lexer": "ipython3",
      "version": "3.9.6"
    }
  },
  "nbformat": 4,
  "nbformat_minor": 5
}
